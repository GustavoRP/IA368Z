{
 "cells": [
  {
   "cell_type": "markdown",
   "metadata": {},
   "source": [
    "# Deep Learning Course - Requisites Exercises"
   ]
  },
  {
   "cell_type": "markdown",
   "metadata": {},
   "source": [
    "This is a Jupyter Notebook containing exercises to test the requisites for the IA368Z course that will be offered in the second semester of 2017."
   ]
  },
  {
   "cell_type": "markdown",
   "metadata": {},
   "source": [
    "### Python"
   ]
  },
  {
   "cell_type": "markdown",
   "metadata": {},
   "source": [
    "Use Python 3.6 while solving the exercises. We recommend [Anaconda](https://www.continuum.io/downloads) - a Data Science focused python distribution."
   ]
  },
  {
   "cell_type": "markdown",
   "metadata": {},
   "source": [
    "### Tools"
   ]
  },
  {
   "cell_type": "markdown",
   "metadata": {},
   "source": [
    "This is a Jupyter Notebook. If you never used one, a Jupyter notebook is a mix of Markdown (like a Wiki) and a Python program. It is very popular among people working with Data Science and Machine Learning in Python. If you need some help on how to use Jupyter Notebooks, please take a look at this [beginner-guide](https://jupyter-notebook-beginner-guide.readthedocs.io/en/latest/)."
   ]
  },
  {
   "cell_type": "markdown",
   "metadata": {},
   "source": [
    "You are free to add as many cells as you want to this notebook in order to make your work readable and well organized."
   ]
  },
  {
   "cell_type": "markdown",
   "metadata": {},
   "source": [
    "# Basic Exercises\n",
    "Let's begin! Start by printing your name and e-mail here:"
   ]
  },
  {
   "cell_type": "code",
   "execution_count": 1,
   "metadata": {
    "ExecuteTime": {
     "end_time": "2017-07-11T20:27:46.310372",
     "start_time": "2017-07-11T20:27:46.304539"
    }
   },
   "outputs": [
    {
     "name": "stdout",
     "output_type": "stream",
     "text": [
      "My name is Gustavo Retuci Pinheiro\n",
      "My email is gustavo_r_p@hotmail.com\n"
     ]
    }
   ],
   "source": [
    "# fill in your data\n",
    "print('My name is Gustavo Retuci Pinheiro')\n",
    "print('My email is gustavo_r_p@hotmail.com')"
   ]
  },
  {
   "cell_type": "markdown",
   "metadata": {},
   "source": [
    "## Lists"
   ]
  },
  {
   "cell_type": "markdown",
   "metadata": {
    "ExecuteTime": {
     "end_time": "2017-07-11T19:32:04.310368",
     "start_time": "2017-07-11T19:32:04.302283"
    }
   },
   "source": [
    "The following are list exercises. For those that do not have experience with Python, we recommend\n",
    "using these exercises do learn more about the subject related to the exercise."
   ]
  },
  {
   "cell_type": "code",
   "execution_count": 2,
   "metadata": {
    "ExecuteTime": {
     "end_time": "2017-07-11T20:27:46.318030",
     "start_time": "2017-07-11T20:27:46.313234"
    },
    "collapsed": true
   },
   "outputs": [],
   "source": [
    "mylist = [5, 8, 'abc', 0, 8.3]"
   ]
  },
  {
   "cell_type": "markdown",
   "metadata": {
    "ExecuteTime": {
     "end_time": "2017-07-11T19:20:42.951254",
     "start_time": "2017-07-11T19:20:42.947609"
    }
   },
   "source": [
    "### Print the number of elementos of the list `mylist`"
   ]
  },
  {
   "cell_type": "code",
   "execution_count": 3,
   "metadata": {
    "ExecuteTime": {
     "end_time": "2017-07-11T20:27:46.325875",
     "start_time": "2017-07-11T20:27:46.320592"
    }
   },
   "outputs": [
    {
     "name": "stdout",
     "output_type": "stream",
     "text": [
      "5\n"
     ]
    }
   ],
   "source": [
    "print(len(mylist))"
   ]
  },
  {
   "cell_type": "markdown",
   "metadata": {},
   "source": [
    "### This is list a"
   ]
  },
  {
   "cell_type": "code",
   "execution_count": 4,
   "metadata": {
    "ExecuteTime": {
     "end_time": "2017-07-11T20:27:46.334185",
     "start_time": "2017-07-11T20:27:46.328232"
    }
   },
   "outputs": [
    {
     "name": "stdout",
     "output_type": "stream",
     "text": [
      "[0, 1, 2, 3, 4, 5, 6, 7, 8, 9]\n"
     ]
    }
   ],
   "source": [
    "a = [i for i in range(10)]\n",
    "print(a)"
   ]
  },
  {
   "cell_type": "code",
   "execution_count": 5,
   "metadata": {
    "ExecuteTime": {
     "end_time": "2017-07-11T20:27:46.341900",
     "start_time": "2017-07-11T20:27:46.336842"
    }
   },
   "outputs": [
    {
     "name": "stdout",
     "output_type": "stream",
     "text": [
      "[3, 4]\n"
     ]
    }
   ],
   "source": [
    "print(a[3:5])"
   ]
  },
  {
   "cell_type": "code",
   "execution_count": 6,
   "metadata": {
    "ExecuteTime": {
     "end_time": "2017-07-11T20:27:46.348661",
     "start_time": "2017-07-11T20:27:46.344634"
    }
   },
   "outputs": [
    {
     "name": "stdout",
     "output_type": "stream",
     "text": [
      "odd elements =  [1, 3, 5, 7, 9]\n",
      "even elements =  [0, 2, 4, 6, 8]\n",
      "last 3 elements =  [7, 8, 9]\n",
      "first 3 elements =  [0, 1, 2]\n"
     ]
    }
   ],
   "source": [
    "# print the odd elements of list a:\n",
    "print(\"odd elements = \", a[1::2])\n",
    "\n",
    "# print the even elements of list a:\n",
    "print(\"even elements = \", a[::2])\n",
    "\n",
    "# print the last 3 elements of the list a:\n",
    "print(\"last 3 elements = \", a[-3:])\n",
    "\n",
    "# print the first 3 elements of the list a:\n",
    "print(\"first 3 elements = \", a[:3])"
   ]
  },
  {
   "cell_type": "code",
   "execution_count": 7,
   "metadata": {
    "ExecuteTime": {
     "end_time": "2017-07-11T20:27:46.356116",
     "start_time": "2017-07-11T20:27:46.351341"
    }
   },
   "outputs": [
    {
     "name": "stdout",
     "output_type": "stream",
     "text": [
      "[9, 8, 7, 6, 5, 4, 3, 2, 1, 0]\n"
     ]
    }
   ],
   "source": [
    "print(a[::-1])"
   ]
  },
  {
   "cell_type": "code",
   "execution_count": 8,
   "metadata": {
    "ExecuteTime": {
     "end_time": "2017-07-11T20:27:46.361602",
     "start_time": "2017-07-11T20:27:46.358265"
    }
   },
   "outputs": [
    {
     "name": "stdout",
     "output_type": "stream",
     "text": [
      "odd elements (reverse) =  [9, 7, 5, 3, 1]\n"
     ]
    }
   ],
   "source": [
    "# print the odd elements of list a, from the largest to the smallest\n",
    "print(\"odd elements (reverse) = \", a[::-2])"
   ]
  },
  {
   "cell_type": "markdown",
   "metadata": {},
   "source": [
    "## Tuples"
   ]
  },
  {
   "cell_type": "code",
   "execution_count": 9,
   "metadata": {
    "ExecuteTime": {
     "end_time": "2017-07-11T20:27:46.368862",
     "start_time": "2017-07-11T20:27:46.363700"
    }
   },
   "outputs": [
    {
     "name": "stdout",
     "output_type": "stream",
     "text": [
      "(0, 1, 2, 3, 4, 5, 6, 7, 8, 9)\n"
     ]
    }
   ],
   "source": [
    "b = tuple(a)\n",
    "print(b)"
   ]
  },
  {
   "cell_type": "markdown",
   "metadata": {},
   "source": [
    "The main difference between a list and a tuple is: tuple is immutable and list are mutable"
   ]
  },
  {
   "cell_type": "markdown",
   "metadata": {},
   "source": [
    "# Exercises with NumPy"
   ]
  },
  {
   "cell_type": "markdown",
   "metadata": {},
   "source": [
    "The following exercises should use only NumPy operations.\n",
    "Avoid import other packages"
   ]
  },
  {
   "cell_type": "code",
   "execution_count": 10,
   "metadata": {
    "ExecuteTime": {
     "end_time": "2017-07-11T20:27:46.822611",
     "start_time": "2017-07-11T20:27:46.370956"
    },
    "collapsed": true
   },
   "outputs": [],
   "source": [
    "import numpy as np"
   ]
  },
  {
   "cell_type": "code",
   "execution_count": 11,
   "metadata": {
    "ExecuteTime": {
     "end_time": "2017-07-11T20:27:46.830557",
     "start_time": "2017-07-11T20:27:46.824913"
    }
   },
   "outputs": [
    {
     "name": "stdout",
     "output_type": "stream",
     "text": [
      "[[ 8  9 10 11 12 13]\n",
      " [14 15 16 17 18 19]\n",
      " [20 21 22 23 24 25]\n",
      " [26 27 28 29 30 31]]\n"
     ]
    }
   ],
   "source": [
    "A = np.arange(8,8+24).reshape(4,6)\n",
    "print(A)"
   ]
  },
  {
   "cell_type": "markdown",
   "metadata": {},
   "source": [
    "### rows, cols, dimensions, shape and datatype"
   ]
  },
  {
   "cell_type": "code",
   "execution_count": 12,
   "metadata": {
    "ExecuteTime": {
     "end_time": "2017-07-11T20:27:46.836952",
     "start_time": "2017-07-11T20:27:46.832762"
    }
   },
   "outputs": [
    {
     "name": "stdout",
     "output_type": "stream",
     "text": [
      "number of rows =  4\n",
      "number of cols =  6\n",
      "number of dimensions =  2\n",
      "shape =  (4, 6)\n",
      "datatype =  int32\n"
     ]
    }
   ],
   "source": [
    "# print the number of rows of A:\n",
    "print(\"number of rows = \", A.shape[0])\n",
    "\n",
    "# print the number of cols of A:\n",
    "print(\"number of cols = \", A.shape[1])\n",
    "\n",
    "# print the number of dimensions of A:\n",
    "print(\"number of dimensions = \", A.ndim)\n",
    "\n",
    "# print the shape of A:\n",
    "print(\"shape = \", A.shape)\n",
    "\n",
    "# print the datatype of the elements of A\n",
    "print(\"datatype = \", A.dtype )\n"
   ]
  },
  {
   "cell_type": "markdown",
   "metadata": {},
   "source": [
    "### Boolean array"
   ]
  },
  {
   "cell_type": "code",
   "execution_count": 13,
   "metadata": {
    "ExecuteTime": {
     "end_time": "2017-07-11T20:27:46.845069",
     "start_time": "2017-07-11T20:27:46.839113"
    }
   },
   "outputs": [
    {
     "name": "stdout",
     "output_type": "stream",
     "text": [
      "A = \n",
      " [[ 8  9 10 11 12 13]\n",
      " [14 15 16 17 18 19]\n",
      " [20 21 22 23 24 25]\n",
      " [26 27 28 29 30 31]]\n",
      "B = \n",
      " [[ True  True  True  True  True  True]\n",
      " [ True False False False False False]\n",
      " [False False False False False False]\n",
      " [False False False False False False]]\n"
     ]
    }
   ],
   "source": [
    "# create a boolean matrix B with True if the element of A é less than 15 (without using a loop)\n",
    "B = A < 15 # <<modify your code here\n",
    "print(\"A = \\n\", A)\n",
    "print(\"B = \\n\", B)"
   ]
  },
  {
   "cell_type": "markdown",
   "metadata": {},
   "source": [
    "### Axis reduction: sum"
   ]
  },
  {
   "cell_type": "code",
   "execution_count": 14,
   "metadata": {
    "ExecuteTime": {
     "end_time": "2017-07-11T20:27:46.852969",
     "start_time": "2017-07-11T20:27:46.847086"
    }
   },
   "outputs": [
    {
     "name": "stdout",
     "output_type": "stream",
     "text": [
      "[68 72 76 80 84 88]\n"
     ]
    }
   ],
   "source": [
    "print(A.sum(axis=0))"
   ]
  },
  {
   "cell_type": "code",
   "execution_count": 15,
   "metadata": {
    "ExecuteTime": {
     "end_time": "2017-07-11T20:27:46.867577",
     "start_time": "2017-07-11T20:27:46.855210"
    }
   },
   "outputs": [
    {
     "name": "stdout",
     "output_type": "stream",
     "text": [
      "number of dimensions =  1\n",
      "mean =  19.5\n"
     ]
    }
   ],
   "source": [
    "# what is the number of dimensions of the array C = A.sum(axis=0)?\n",
    "#R: It must be 1 because it is the sum a 2d array in one axis\n",
    "C = A.sum(axis=0)\n",
    "print(\"number of dimensions = \", C.ndim)\n",
    "\n",
    "# compute the mean value of the array A\n",
    "mean = C.sum(axis=0)/(A.shape[0] * A.shape[1])\n",
    "print(\"mean = \", mean)"
   ]
  },
  {
   "cell_type": "code",
   "execution_count": 16,
   "metadata": {
    "ExecuteTime": {
     "end_time": "2017-07-11T20:27:46.872965",
     "start_time": "2017-07-11T20:27:46.869775"
    }
   },
   "outputs": [
    {
     "name": "stdout",
     "output_type": "stream",
     "text": [
      "C = \n",
      " [[ 0.          0.04347826  0.08695652  0.13043478  0.17391304  0.2173913 ]\n",
      " [ 0.26086957  0.30434783  0.34782609  0.39130435  0.43478261  0.47826087]\n",
      " [ 0.52173913  0.56521739  0.60869565  0.65217391  0.69565217  0.73913043]\n",
      " [ 0.7826087   0.82608696  0.86956522  0.91304348  0.95652174  1.        ]]\n"
     ]
    }
   ],
   "source": [
    "# create a matrix C that is a normalization of A, so that its value are between 0.0 and 1.0\n",
    "C = A - np.min(A)\n",
    "C = C/np.max(C)\n",
    "\n",
    "print(\"C = \\n\", C)"
   ]
  },
  {
   "cell_type": "code",
   "execution_count": 17,
   "metadata": {
    "ExecuteTime": {
     "end_time": "2017-07-11T20:27:46.879063",
     "start_time": "2017-07-11T20:27:46.875173"
    }
   },
   "outputs": [
    {
     "name": "stdout",
     "output_type": "stream",
     "text": [
      "D = \n",
      " [[ 0.          0.          0.          0.          0.          0.        ]\n",
      " [ 0.33333333  0.33333333  0.33333333  0.33333333  0.33333333  0.33333333]\n",
      " [ 0.66666667  0.66666667  0.66666667  0.66666667  0.66666667  0.66666667]\n",
      " [ 1.          1.          1.          1.          1.          1.        ]]\n"
     ]
    }
   ],
   "source": [
    "# create a matrix D that is a nomalization of the columns of A, so that each column of D has values between 0. and 1.\n",
    "D = A - np.min(A,axis=0)\n",
    "D = D / D.max(axis=0)\n",
    "print(\"D = \\n\", D)"
   ]
  },
  {
   "cell_type": "markdown",
   "metadata": {},
   "source": [
    "### Slicing"
   ]
  },
  {
   "cell_type": "code",
   "execution_count": 18,
   "metadata": {
    "ExecuteTime": {
     "end_time": "2017-07-11T20:27:46.887255",
     "start_time": "2017-07-11T20:27:46.881320"
    }
   },
   "outputs": [
    {
     "name": "stdout",
     "output_type": "stream",
     "text": [
      "[[ 9 11 13]\n",
      " [15 17 19]\n",
      " [21 23 25]\n",
      " [27 29 31]]\n"
     ]
    }
   ],
   "source": [
    "# this operation is called slicing:\n",
    "AA = A[:,1::2]\n",
    "print(AA)"
   ]
  },
  {
   "cell_type": "code",
   "execution_count": 19,
   "metadata": {
    "ExecuteTime": {
     "end_time": "2017-07-11T20:27:46.892883",
     "start_time": "2017-07-11T20:27:46.889724"
    }
   },
   "outputs": [
    {
     "name": "stdout",
     "output_type": "stream",
     "text": [
      "AB = \n",
      " [[14 15 16 17 18 19]\n",
      " [26 27 28 29 30 31]]\n"
     ]
    }
   ],
   "source": [
    "# create matrix AB with the odd rows of matrix A, using the concept of slicing:\n",
    "AB = A[1::2,:]\n",
    "print(\"AB = \\n\", AB)"
   ]
  },
  {
   "cell_type": "markdown",
   "metadata": {},
   "source": [
    "### Matrix dot product"
   ]
  },
  {
   "cell_type": "code",
   "execution_count": 20,
   "metadata": {
    "ExecuteTime": {
     "end_time": "2017-07-11T20:27:46.897993",
     "start_time": "2017-07-11T20:27:46.894835"
    }
   },
   "outputs": [
    {
     "name": "stdout",
     "output_type": "stream",
     "text": [
      "The slowest run took 25.39 times longer than the fastest. This could mean that an intermediate result is being cached.\n",
      "100000 loops, best of 3: 6.19 µs per loop\n",
      "The slowest run took 8.91 times longer than the fastest. This could mean that an intermediate result is being cached.\n",
      "1000000 loops, best of 3: 471 ns per loop\n",
      "AC = \n",
      " [[13 19 25 31]\n",
      " [12 18 24 30]\n",
      " [11 17 23 29]\n",
      " [10 16 22 28]\n",
      " [ 9 15 21 27]\n",
      " [ 8 14 20 26]]\n"
     ]
    }
   ],
   "source": [
    "# create a matrix AC which is a rotation of 90 degrees anti-clockwise of the matrix A\n",
    "%timeit AC = np.rot90(A)\n",
    "%timeit AC = A.T[::-1,:]\n",
    "\n",
    "AC = A.T[::-1,:]\n",
    "\n",
    "print(\"AC = \\n\", AC)"
   ]
  },
  {
   "cell_type": "markdown",
   "metadata": {},
   "source": [
    "Compute $$ E = A A^T $$"
   ]
  },
  {
   "cell_type": "code",
   "execution_count": 21,
   "metadata": {
    "ExecuteTime": {
     "end_time": "2017-07-11T20:27:46.905448",
     "start_time": "2017-07-11T20:27:46.900046"
    }
   },
   "outputs": [
    {
     "name": "stdout",
     "output_type": "stream",
     "text": [
      "The slowest run took 86.38 times longer than the fastest. This could mean that an intermediate result is being cached.\n",
      "1000000 loops, best of 3: 1.14 µs per loop\n",
      "The slowest run took 13.63 times longer than the fastest. This could mean that an intermediate result is being cached.\n",
      "1000000 loops, best of 3: 1.23 µs per loop\n",
      "[[ 679 1057 1435 1813]\n",
      " [1057 1651 2245 2839]\n",
      " [1435 2245 3055 3865]\n",
      " [1813 2839 3865 4891]]\n"
     ]
    }
   ],
   "source": [
    "%timeit E = np.dot(A, A.T)\n",
    "%timeit E = A.dot(A.T)\n",
    "\n",
    "E = np.dot(A, A.T)\n",
    "\n",
    "print(E)"
   ]
  },
  {
   "cell_type": "markdown",
   "metadata": {},
   "source": [
    "### 3-D array"
   ]
  },
  {
   "cell_type": "code",
   "execution_count": 22,
   "metadata": {
    "ExecuteTime": {
     "end_time": "2017-07-11T20:27:46.913052",
     "start_time": "2017-07-11T20:27:46.907443"
    }
   },
   "outputs": [
    {
     "name": "stdout",
     "output_type": "stream",
     "text": [
      "[[[ 8  9 10]\n",
      "  [11 12 13]\n",
      "  [14 15 16]\n",
      "  [17 18 19]]\n",
      "\n",
      " [[20 21 22]\n",
      "  [23 24 25]\n",
      "  [26 27 28]\n",
      "  [29 30 31]]]\n"
     ]
    }
   ],
   "source": [
    "F = A.reshape(2,4,3)\n",
    "print(F)"
   ]
  },
  {
   "cell_type": "code",
   "execution_count": 23,
   "metadata": {
    "ExecuteTime": {
     "end_time": "2017-07-11T20:27:46.918954",
     "start_time": "2017-07-11T20:27:46.915341"
    }
   },
   "outputs": [
    {
     "name": "stdout",
     "output_type": "stream",
     "text": [
      "number of dimensions =  3\n",
      "shape of F =  (2, 4, 3)\n",
      "mean value of the two matrices F[0] and F[1] =  [ 13.5  25.5]\n"
     ]
    }
   ],
   "source": [
    "# print the number of dimensions of F\n",
    "print(\"number of dimensions = \", F.ndim)\n",
    "\n",
    "# print the shape of F\n",
    "print(\"shape of F = \", F.shape)\n",
    "\n",
    "# compute the mean value of the two matrices F[0] and F[1], using a single command using F.mean(??)\n",
    "# print(\"mean value of the two matrices F[0] and F[1] = \", F.mean(2).mean(1))\n",
    "\n",
    "print(\"mean value of the two matrices F[0] and F[1] = \", F.mean(axis = (1, 2)))"
   ]
  },
  {
   "cell_type": "code",
   "execution_count": 24,
   "metadata": {
    "ExecuteTime": {
     "end_time": "2017-07-11T20:27:46.926981",
     "start_time": "2017-07-11T20:27:46.921065"
    }
   },
   "outputs": [
    {
     "name": "stdout",
     "output_type": "stream",
     "text": [
      "[1 2 3 4]\n"
     ]
    }
   ],
   "source": [
    "v = np.array([1,2,3,4])\n",
    "# print(a)\n",
    "print(v)"
   ]
  },
  {
   "cell_type": "markdown",
   "metadata": {},
   "source": [
    "### Broadcasting"
   ]
  },
  {
   "cell_type": "markdown",
   "metadata": {},
   "source": [
    "- What is the concept of broadcasting in NumPy?\n",
    "- Answer:\n",
    "\n",
    "It is when a smaller array does an operation across a bigger array without an explicit loop.\n",
    "The dimensions must be adequate in order to perform this operation.\n",
    "\n",
    "\n",
    "For example, the smaller matrix b is broadcast across the matrix a.\n",
    "\n",
    "Further informaton can be found [here](https://docs.scipy.org/doc/numpy/user/basics.broadcasting.html)."
   ]
  },
  {
   "cell_type": "code",
   "execution_count": 37,
   "metadata": {},
   "outputs": [
    {
     "data": {
      "text/plain": [
       "array([[  3.,  12.,  24.],\n",
       "       [ 12.,  30.,  48.]])"
      ]
     },
     "execution_count": 37,
     "metadata": {},
     "output_type": "execute_result"
    }
   ],
   "source": [
    "#Broadcasting example\n",
    "a = np.array([[1.0, 2.0, 3.0], [4.0, 5.0, 6.0]])\n",
    "b = np.array([3, 6, 8])\n",
    "a * b"
   ]
  },
  {
   "cell_type": "code",
   "execution_count": 45,
   "metadata": {
    "ExecuteTime": {
     "end_time": "2017-07-11T20:27:46.932430",
     "start_time": "2017-07-11T20:27:46.929293"
    }
   },
   "outputs": [
    {
     "name": "stdout",
     "output_type": "stream",
     "text": [
      "The slowest run took 9.28 times longer than the fastest. This could mean that an intermediate result is being cached.\n",
      "100000 loops, best of 3: 2.61 µs per loop\n",
      "The slowest run took 5.83 times longer than the fastest. This could mean that an intermediate result is being cached.\n",
      "1000000 loops, best of 3: 1.68 µs per loop\n",
      "The slowest run took 10.53 times longer than the fastest. This could mean that an intermediate result is being cached.\n",
      "1000000 loops, best of 3: 1.42 µs per loop\n",
      "G = \n",
      " [[ 9 10 11 12 13 14]\n",
      " [16 17 18 19 20 21]\n",
      " [23 24 25 26 27 28]\n",
      " [30 31 32 33 34 35]]\n"
     ]
    }
   ],
   "source": [
    "# Using the concept of broadcasting, create matrix G with the sum of vector v to every column of A:\n",
    "\n",
    "G = A.T + v\n",
    "G = G.T\n",
    "\n",
    "%timeit G = np.expand_dims(v, axis=1) + A\n",
    "\n",
    "%timeit G = v.reshape(len(v),1) + A\n",
    "\n",
    "%timeit G = v[:,None] + A\n",
    "\n",
    "print(\"G = \\n\", G)"
   ]
  },
  {
   "cell_type": "markdown",
   "metadata": {},
   "source": [
    "### Function - one-hot encoding"
   ]
  },
  {
   "cell_type": "markdown",
   "metadata": {},
   "source": [
    "Define a function that receives as input an one-dimensional array and the output a one-hot encoding\n",
    "following the example:"
   ]
  },
  {
   "cell_type": "code",
   "execution_count": 27,
   "metadata": {
    "ExecuteTime": {
     "end_time": "2017-07-11T20:27:46.940819",
     "start_time": "2017-07-11T20:27:46.934708"
    }
   },
   "outputs": [
    {
     "name": "stdout",
     "output_type": "stream",
     "text": [
      "[2 0 3 2 1]\n"
     ]
    }
   ],
   "source": [
    "# input\n",
    "aa = np.array([2,0,3,2,1])\n",
    "print(aa)"
   ]
  },
  {
   "cell_type": "code",
   "execution_count": 28,
   "metadata": {
    "ExecuteTime": {
     "end_time": "2017-07-11T20:27:46.950002",
     "start_time": "2017-07-11T20:27:46.943093"
    }
   },
   "outputs": [
    {
     "name": "stdout",
     "output_type": "stream",
     "text": [
      "[[0 0 1 0]\n",
      " [1 0 0 0]\n",
      " [0 0 0 1]\n",
      " [0 0 1 0]\n",
      " [0 1 0 0]]\n"
     ]
    }
   ],
   "source": [
    "# output\n",
    "oo = np.array([[0,0,1,0],\n",
    "               [1,0,0,0],\n",
    "               [0,0,0,1],\n",
    "               [0,0,1,0],\n",
    "               [0,1,0,0]])\n",
    "print(oo)"
   ]
  },
  {
   "cell_type": "code",
   "execution_count": 29,
   "metadata": {
    "ExecuteTime": {
     "end_time": "2017-07-11T20:27:46.957910",
     "start_time": "2017-07-11T20:27:46.952230"
    }
   },
   "outputs": [
    {
     "name": "stdout",
     "output_type": "stream",
     "text": [
      "[[0 0 1 0]\n",
      " [1 0 0 0]\n",
      " [0 0 0 1]\n",
      " [0 0 1 0]\n",
      " [0 1 0 0]]\n",
      "[[0 1 0 0 0 0]\n",
      " [0 0 0 1 0 0]\n",
      " [0 0 1 0 0 0]\n",
      " [1 0 0 0 0 0]\n",
      " [0 0 0 0 0 1]\n",
      " [0 0 0 0 1 0]]\n"
     ]
    }
   ],
   "source": [
    "# Try to avoid explicit loop as much as possible\n",
    "# Use only NumPy operations, no other libraries\n",
    "def one_hot(i):\n",
    "    # insert your code here\n",
    "    \n",
    "    M = np.zeros((i.size,np.max(i)+1), dtype=np.int8)\n",
    "    M[np.arange(i.size),i] = 1    \n",
    "    \n",
    "    return M\n",
    "\n",
    "print(one_hot(aa))\n",
    "\n",
    "# test with other vectors\n",
    "print(one_hot(np.array([1, 3, 2, 0, 5, 4]))) # The arguments are the index, not the lables"
   ]
  },
  {
   "cell_type": "markdown",
   "metadata": {
    "collapsed": true
   },
   "source": [
    "# The end"
   ]
  }
 ],
 "metadata": {
  "kernelspec": {
   "display_name": "Python 3",
   "language": "python",
   "name": "python3"
  },
  "language_info": {
   "codemirror_mode": {
    "name": "ipython",
    "version": 3
   },
   "file_extension": ".py",
   "mimetype": "text/x-python",
   "name": "python",
   "nbconvert_exporter": "python",
   "pygments_lexer": "ipython3",
   "version": "3.5.3"
  },
  "toc": {
   "colors": {
    "hover_highlight": "#DAA520",
    "running_highlight": "#FF0000",
    "selected_highlight": "#FFD700"
   },
   "moveMenuLeft": true,
   "nav_menu": {
    "height": "354px",
    "width": "252px"
   },
   "navigate_menu": true,
   "number_sections": true,
   "sideBar": true,
   "threshold": 4,
   "toc_cell": false,
   "toc_section_display": "block",
   "toc_window_display": false
  }
 },
 "nbformat": 4,
 "nbformat_minor": 2
}
